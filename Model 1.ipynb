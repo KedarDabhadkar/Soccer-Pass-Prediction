{
 "cells": [
  {
   "cell_type": "code",
   "execution_count": 22,
   "metadata": {
    "collapsed": true
   },
   "outputs": [],
   "source": [
    "import numpy as np\n",
    "import pandas as pd\n",
    "import matplotlib.pyplot as plt\n",
    "from sklearn.model_selection import train_test_split\n",
    "from sklearn.linear_model import LogisticRegression\n",
    "from scipy import sparse"
   ]
  },
  {
   "cell_type": "code",
   "execution_count": 2,
   "metadata": {
    "collapsed": true
   },
   "outputs": [],
   "source": [
    "X = np.loadtxt('unscaled_featmat.txt')\n",
    "Y = np.loadtxt('unscaled_labels.txt')"
   ]
  },
  {
   "cell_type": "code",
   "execution_count": 3,
   "metadata": {},
   "outputs": [
    {
     "data": {
      "text/plain": [
       "((11682, 21), (11682, 21))"
      ]
     },
     "execution_count": 3,
     "metadata": {},
     "output_type": "execute_result"
    }
   ],
   "source": [
    "X.shape,Y.shape"
   ]
  },
  {
   "cell_type": "code",
   "execution_count": 4,
   "metadata": {
    "collapsed": true
   },
   "outputs": [],
   "source": [
    "Y_list = []\n",
    "for row in Y:\n",
    "    for i,element in enumerate(row):\n",
    "        if element == 1:\n",
    "            Y_list.append(i+1)\n",
    "            continue"
   ]
  },
  {
   "cell_type": "code",
   "execution_count": 65,
   "metadata": {
    "scrolled": false
   },
   "outputs": [
    {
     "name": "stdout",
     "output_type": "stream",
     "text": [
      "Nearest teammember rank  1  . Percent of all passes =  27.418250299606232\n",
      "Nearest teammember rank  2  . Percent of all passes =  19.174798835815785\n",
      "Nearest teammember rank  3  . Percent of all passes =  11.50487930148947\n",
      "Nearest teammember rank  4  . Percent of all passes =  7.669919534326314\n",
      "Nearest teammember rank  5  . Percent of all passes =  5.213148433487417\n",
      "Nearest teammember rank  6  . Percent of all passes =  3.9291217257318953\n",
      "Nearest teammember rank  7  . Percent of all passes =  2.6022941277178564\n",
      "Nearest teammember rank  8  . Percent of all passes =  2.131484334874165\n",
      "Nearest teammember rank  9  . Percent of all passes =  1.891799349426468\n",
      "Nearest teammember rank  10  . Percent of all passes =  1.275466529703818\n"
     ]
    },
    {
     "data": {
      "image/png": "[encoded data removed]",
      "text/plain": [
       "<matplotlib.figure.Figure at 0x1f7fa118048>"
      ]
     },
     "metadata": {},
     "output_type": "display_data"
    }
   ],
   "source": [
    "Frac_pass_list=[]\n",
    "\n",
    "for i in range(1,11):\n",
    "    print ('Nearest teammember rank ',i,' . Percent of all passes = ',Y_list.count(i)*100/Y.shape[0])\n",
    "    Frac_pass_list.append(Y_list.count(i)/Y.shape[0])\n",
    "    \n",
    "    plt.plot(i,Y_list.count(i)/Y.shape[0],'ro')    \n",
    "plt.show()"
   ]
  },
  {
   "cell_type": "code",
   "execution_count": 63,
   "metadata": {},
   "outputs": [],
   "source": [
    "# Logistic Regressin on the model\n",
    "\n",
    "X_train, X_test, Y_train, Y_test = train_test_split(X, Y_list, random_state = 10,test_size=0.2)\n",
    "sXtr = sparse.csr_matrix(X_train)\n",
    "sXte = sparse.csr_matrix(X_test)"
   ]
  },
  {
   "cell_type": "code",
   "execution_count": 71,
   "metadata": {},
   "outputs": [
    {
     "name": "stdout",
     "output_type": "stream",
     "text": [
      "[LibLinear]Accuracy on training data: 0.28\n",
      "Accuracy on test data: 0.26\n"
     ]
    }
   ],
   "source": [
    "log = LogisticRegression(penalty='l2',verbose=True)\n",
    "log.fit(sX,Y_train)\n",
    "training_accuracy = log.score(sX, Y_train)\n",
    "test_accuracy = log.score(sXte, Y_test)\n",
    "\n",
    "print(\"Accuracy on training data: %0.2f\" %(training_accuracy))\n",
    "print(\"Accuracy on test data: %0.2f\" %(test_accuracy))"
   ]
  },
  {
   "cell_type": "code",
   "execution_count": 75,
   "metadata": {},
   "outputs": [
    {
     "data": {
      "text/plain": [
       "0.7419768934531451"
      ]
     },
     "execution_count": 75,
     "metadata": {},
     "output_type": "execute_result"
    }
   ],
   "source": [
    "predicted = log.predict(sXte)\n",
    "list(predicted).count(1)/len(predicted)"
   ]
  },
  {
   "cell_type": "code",
   "execution_count": null,
   "metadata": {
    "collapsed": true
   },
   "outputs": [],
   "source": []
  },
  {
   "cell_type": "code",
   "execution_count": null,
   "metadata": {
    "collapsed": true
   },
   "outputs": [],
   "source": []
  },
  {
   "cell_type": "code",
   "execution_count": 76,
   "metadata": {},
   "outputs": [
    {
     "data": {
      "text/plain": [
       "array([[ 0.,  1.,  0., ...,  0.,  0.,  0.],\n",
       "       [ 0.,  0.,  0., ...,  0.,  0.,  0.],\n",
       "       [ 1.,  0.,  0., ...,  0.,  0.,  0.],\n",
       "       ..., \n",
       "       [ 1.,  0.,  0., ...,  0.,  0.,  0.],\n",
       "       [ 0.,  1.,  0., ...,  0.,  0.,  0.],\n",
       "       [ 1.,  0.,  0., ...,  0.,  0.,  0.]])"
      ]
     },
     "execution_count": 76,
     "metadata": {},
     "output_type": "execute_result"
    }
   ],
   "source": [
    "# Modify Y\n",
    "Y_list = []\n",
    "for row in Y:\n",
    "    for i,element in enumerate(row):\n",
    "        if element == 1:\n",
    "            Y_list.append(i+1)\n",
    "            continue"
   ]
  }
 ],
 "metadata": {
  "kernelspec": {
   "display_name": "Python 3",
   "language": "python",
   "name": "python3"
  },
  "language_info": {
   "codemirror_mode": {
    "name": "ipython",
    "version": 3
   },
   "file_extension": ".py",
   "mimetype": "text/x-python",
   "name": "python",
   "nbconvert_exporter": "python",
   "pygments_lexer": "ipython3",
   "version": "3.6.3"
  }
 },
 "nbformat": 4,
 "nbformat_minor": 2
}
