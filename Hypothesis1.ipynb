{
 "cells": [
  {
   "cell_type": "code",
   "execution_count": 2,
   "metadata": {
    "collapsed": true
   },
   "outputs": [],
   "source": [
    "import numpy as np\n",
    "import pandas as pd\n",
    "import matplotlib.pyplot as plt\n",
    "from sklearn.model_selection import train_test_split\n",
    "from sklearn.linear_model import LogisticRegression\n",
    "from scipy import sparse"
   ]
  },
  {
   "cell_type": "markdown",
   "metadata": {},
   "source": [
    "### Hypothesis 1\n",
    "\n",
    "We need feature matrix in a way such that every column represents a unique characteristic (or feature) and every row represents a pass (or instance).\n",
    "\n",
    "Let's assume this hypothesis-\n",
    "- Let the first column represent the distance of the player from the sender's team who is closest to the sender, the second column repsents the distance of the second closest player from the sender's team and so on. Thus, the 10th column represents the player from the sender's teeam farthest from the sender.\n",
    "- In a similar way, let the 11th column represent the distance of the player from the opponent team who is closest to the sender, and likewise the 22nd column will represent the distance of the player farthest from the opponent team farthest from the sender.\n",
    "- If all players, except the sender, are arranged in the order in which their distances from the sender appear in the hypothesis, the position of receiver in this ordered list is our prediction."
   ]
  },
  {
   "cell_type": "markdown",
   "metadata": {},
   "source": [
    "Thus, for every formation of the feature matrix as represented by our hypothesis, we have a prediction.\n",
    "\n",
    "Let's see how a logistic regression classifier performs in this scenario."
   ]
  },
  {
   "cell_type": "code",
   "execution_count": 3,
   "metadata": {
    "collapsed": true
   },
   "outputs": [],
   "source": [
    "X = np.loadtxt('unscaled_featmat.txt')\n",
    "Y = np.loadtxt('unscaled_labels.txt')"
   ]
  },
  {
   "cell_type": "code",
   "execution_count": 4,
   "metadata": {},
   "outputs": [
    {
     "data": {
      "text/plain": [
       "((11682, 21), (11682, 21))"
      ]
     },
     "execution_count": 4,
     "metadata": {},
     "output_type": "execute_result"
    }
   ],
   "source": [
    "X.shape,Y.shape"
   ]
  },
  {
   "cell_type": "code",
   "execution_count": 6,
   "metadata": {
    "collapsed": true
   },
   "outputs": [],
   "source": [
    "Y_list = []\n",
    "for row in Y:\n",
    "    for i,element in enumerate(row):\n",
    "        if element == 1:\n",
    "            Y_list.append(i+1)\n",
    "            continue"
   ]
  },
  {
   "cell_type": "code",
   "execution_count": 7,
   "metadata": {},
   "outputs": [],
   "source": [
    "X_train, X_test, Y_train, Y_test = train_test_split(X, Y_list, random_state = 10,test_size=0.2)\n",
    "sXtr = sparse.csr_matrix(X_train)\n",
    "sXte = sparse.csr_matrix(X_test)"
   ]
  },
  {
   "cell_type": "code",
   "execution_count": 24,
   "metadata": {},
   "outputs": [
    {
     "name": "stdout",
     "output_type": "stream",
     "text": [
      "Accuracy on training data: 0.28\n",
      "Accuracy on test data: 0.26\n"
     ]
    }
   ],
   "source": [
    "# Logistic Regression\n",
    "\n",
    "log = LogisticRegression(penalty='l2')\n",
    "log.fit(sXtr,Y_train)\n",
    "training_accuracy = log.score(sXtr, Y_train)\n",
    "test_accuracy = log.score(sXte, Y_test)\n",
    "\n",
    "print(\"Accuracy on training data: %0.2f\" %(training_accuracy))\n",
    "print(\"Accuracy on test data: %0.2f\" %(test_accuracy))"
   ]
  },
  {
   "cell_type": "code",
   "execution_count": 13,
   "metadata": {},
   "outputs": [
    {
     "data": {
      "text/plain": [
       "0.7419768934531451"
      ]
     },
     "execution_count": 13,
     "metadata": {},
     "output_type": "execute_result"
    }
   ],
   "source": [
    "predicted = log.predict(sXte)\n",
    "list(predicted).count(1)/len(predicted)"
   ]
  },
  {
   "cell_type": "code",
   "execution_count": 28,
   "metadata": {},
   "outputs": [
    {
     "name": "stdout",
     "output_type": "stream",
     "text": [
      "Accuracy on training data: 0.08\n",
      "Accuracy on test data: 0.06\n"
     ]
    }
   ],
   "source": [
    "#Naive Bayes\n",
    "from sklearn import naive_bayes\n",
    "cnb = naive_bayes.MultinomialNB()\n",
    "cnb.fit(sXtr,Y_train)\n",
    "training_accuracy_nb = cnb.score(sXtr,Y_train)\n",
    "test_accuracy_nb = cnb.score(sXte,Y_test)\n",
    "\n",
    "print(\"Accuracy on training data: %0.2f\" %(training_accuracy_nb))\n",
    "print(\"Accuracy on test data: %0.2f\" %(test_accuracy_nb))"
   ]
  },
  {
   "cell_type": "code",
   "execution_count": 29,
   "metadata": {},
   "outputs": [
    {
     "data": {
      "text/plain": [
       "0.24732563115104836"
      ]
     },
     "execution_count": 29,
     "metadata": {},
     "output_type": "execute_result"
    }
   ],
   "source": [
    "predicted_nb = cnb.predict(sXte)\n",
    "list(predicted_nb).count(10)/len(predicted_nb)\n",
    "#pd.DataFrame(columns=[Y_test,predicted_nb])"
   ]
  },
  {
   "cell_type": "code",
   "execution_count": 45,
   "metadata": {},
   "outputs": [
    {
     "name": "stdout",
     "output_type": "stream",
     "text": [
      "Accuracy on training data: 0.69\n",
      "Accuracy on test data: 0.15\n"
     ]
    }
   ],
   "source": [
    "# RandomForest\n",
    "from sklearn.ensemble import RandomForestClassifier as rf\n",
    "crf = rf(n_estimators=1)\n",
    "crf.fit(sXtr,Y_train)\n",
    "\n",
    "training_accuracy_rf = crf.score(sXtr,Y_train)\n",
    "test_accuracy_rf = crf.score(sXte,Y_test)\n",
    "\n",
    "print(\"Accuracy on training data: %0.2f\" %(training_accuracy_rf))\n",
    "print(\"Accuracy on test data: %0.2f\" %(test_accuracy_rf))\n",
    "\n",
    "predictedrf = crf.predict(sXte)\n",
    "probrf = crf.predict_proba(sXte)"
   ]
  },
  {
   "cell_type": "code",
   "execution_count": 53,
   "metadata": {},
   "outputs": [
    {
     "data": {
      "text/html": [
       "<div>\n",
       "<style>\n",
       "    .dataframe thead tr:only-child th {\n",
       "        text-align: right;\n",
       "    }\n",
       "\n",
       "    .dataframe thead th {\n",
       "        text-align: left;\n",
       "    }\n",
       "\n",
       "    .dataframe tbody tr th {\n",
       "        vertical-align: top;\n",
       "    }\n",
       "</style>\n",
       "<table border=\"1\" class=\"dataframe\">\n",
       "  <thead>\n",
       "    <tr style=\"text-align: right;\">\n",
       "      <th></th>\n",
       "      <th>Metric</th>\n",
       "      <th>RF</th>\n",
       "      <th>NB</th>\n",
       "      <th>LR</th>\n",
       "    </tr>\n",
       "  </thead>\n",
       "  <tbody>\n",
       "    <tr>\n",
       "      <th>0</th>\n",
       "      <td>Test Accuracy</td>\n",
       "      <td>15.190415</td>\n",
       "      <td>6.332905</td>\n",
       "      <td>26.101840</td>\n",
       "    </tr>\n",
       "    <tr>\n",
       "      <th>1</th>\n",
       "      <td>Train Accuracy</td>\n",
       "      <td>68.903157</td>\n",
       "      <td>7.747459</td>\n",
       "      <td>28.378812</td>\n",
       "    </tr>\n",
       "  </tbody>\n",
       "</table>\n",
       "</div>"
      ],
      "text/plain": [
       "           Metric         RF        NB         LR\n",
       "0   Test Accuracy  15.190415  6.332905  26.101840\n",
       "1  Train Accuracy  68.903157  7.747459  28.378812"
      ]
     },
     "execution_count": 53,
     "metadata": {},
     "output_type": "execute_result"
    }
   ],
   "source": [
    "metrics=pd.DataFrame()\n",
    "metrics['Metric']=['Test Accuracy','Train Accuracy']\n",
    "metrics.set_index('Metric')\n",
    "metrics['RF'] = [test_accuracy_rf*100,training_accuracy_rf*100]\n",
    "metrics['NB'] = [test_accuracy_nb*100,training_accuracy_nb*100]\n",
    "metrics['LR'] = [test_accuracy*100,training_accuracy*100]\n",
    "metrics"
   ]
  },
  {
   "cell_type": "code",
   "execution_count": 46,
   "metadata": {},
   "outputs": [
    {
     "data": {
      "text/html": [
       "<div>\n",
       "<style>\n",
       "    .dataframe thead tr:only-child th {\n",
       "        text-align: right;\n",
       "    }\n",
       "\n",
       "    .dataframe thead th {\n",
       "        text-align: left;\n",
       "    }\n",
       "\n",
       "    .dataframe tbody tr th {\n",
       "        vertical-align: top;\n",
       "    }\n",
       "</style>\n",
       "<table border=\"1\" class=\"dataframe\">\n",
       "  <thead>\n",
       "    <tr style=\"text-align: right;\">\n",
       "      <th></th>\n",
       "      <th>Original Test Labels</th>\n",
       "      <th>RF predicted</th>\n",
       "      <th>NB predicted</th>\n",
       "      <th>LR predictd</th>\n",
       "    </tr>\n",
       "  </thead>\n",
       "  <tbody>\n",
       "    <tr>\n",
       "      <th>0</th>\n",
       "      <td>1</td>\n",
       "      <td>3</td>\n",
       "      <td>10</td>\n",
       "      <td>1</td>\n",
       "    </tr>\n",
       "    <tr>\n",
       "      <th>1</th>\n",
       "      <td>2</td>\n",
       "      <td>2</td>\n",
       "      <td>1</td>\n",
       "      <td>1</td>\n",
       "    </tr>\n",
       "    <tr>\n",
       "      <th>2</th>\n",
       "      <td>5</td>\n",
       "      <td>8</td>\n",
       "      <td>20</td>\n",
       "      <td>1</td>\n",
       "    </tr>\n",
       "    <tr>\n",
       "      <th>3</th>\n",
       "      <td>1</td>\n",
       "      <td>21</td>\n",
       "      <td>12</td>\n",
       "      <td>1</td>\n",
       "    </tr>\n",
       "    <tr>\n",
       "      <th>4</th>\n",
       "      <td>14</td>\n",
       "      <td>1</td>\n",
       "      <td>17</td>\n",
       "      <td>1</td>\n",
       "    </tr>\n",
       "  </tbody>\n",
       "</table>\n",
       "</div>"
      ],
      "text/plain": [
       "   Original Test Labels  RF predicted  NB predicted  LR predictd\n",
       "0                     1             3            10            1\n",
       "1                     2             2             1            1\n",
       "2                     5             8            20            1\n",
       "3                     1            21            12            1\n",
       "4                    14             1            17            1"
      ]
     },
     "execution_count": 46,
     "metadata": {},
     "output_type": "execute_result"
    }
   ],
   "source": [
    "a=pd.DataFrame()\n",
    "a['Original Test Labels']=Y_test\n",
    "a['RF predicted'] = predictedrf\n",
    "a['NB predicted'] = predicted_nb\n",
    "a['LR predictd'] = predicted\n",
    "a.head()"
   ]
  },
  {
   "cell_type": "code",
   "execution_count": 48,
   "metadata": {},
   "outputs": [
    {
     "data": {
      "text/html": [
       "<div>\n",
       "<style>\n",
       "    .dataframe thead tr:only-child th {\n",
       "        text-align: right;\n",
       "    }\n",
       "\n",
       "    .dataframe thead th {\n",
       "        text-align: left;\n",
       "    }\n",
       "\n",
       "    .dataframe tbody tr th {\n",
       "        vertical-align: top;\n",
       "    }\n",
       "</style>\n",
       "<table border=\"1\" class=\"dataframe\">\n",
       "  <thead>\n",
       "    <tr style=\"text-align: right;\">\n",
       "      <th></th>\n",
       "      <th>Original Train Labels</th>\n",
       "      <th>RF predicted</th>\n",
       "      <th>NB predicted</th>\n",
       "      <th>LR predictd</th>\n",
       "    </tr>\n",
       "  </thead>\n",
       "  <tbody>\n",
       "    <tr>\n",
       "      <th>0</th>\n",
       "      <td>4</td>\n",
       "      <td>4</td>\n",
       "      <td>19</td>\n",
       "      <td>1</td>\n",
       "    </tr>\n",
       "    <tr>\n",
       "      <th>1</th>\n",
       "      <td>9</td>\n",
       "      <td>9</td>\n",
       "      <td>21</td>\n",
       "      <td>1</td>\n",
       "    </tr>\n",
       "    <tr>\n",
       "      <th>2</th>\n",
       "      <td>9</td>\n",
       "      <td>9</td>\n",
       "      <td>11</td>\n",
       "      <td>1</td>\n",
       "    </tr>\n",
       "    <tr>\n",
       "      <th>3</th>\n",
       "      <td>4</td>\n",
       "      <td>4</td>\n",
       "      <td>21</td>\n",
       "      <td>1</td>\n",
       "    </tr>\n",
       "    <tr>\n",
       "      <th>4</th>\n",
       "      <td>17</td>\n",
       "      <td>2</td>\n",
       "      <td>17</td>\n",
       "      <td>1</td>\n",
       "    </tr>\n",
       "  </tbody>\n",
       "</table>\n",
       "</div>"
      ],
      "text/plain": [
       "   Original Train Labels  RF predicted  NB predicted  LR predictd\n",
       "0                      4             4            19            1\n",
       "1                      9             9            21            1\n",
       "2                      9             9            11            1\n",
       "3                      4             4            21            1\n",
       "4                     17             2            17            1"
      ]
     },
     "execution_count": 48,
     "metadata": {},
     "output_type": "execute_result"
    }
   ],
   "source": [
    "b=pd.DataFrame()\n",
    "b['Original Train Labels']=Y_train\n",
    "b['RF predicted'] = crf.predict(sXtr)\n",
    "b['NB predicted'] = cnb.predict(sXtr)\n",
    "b['LR predictd'] = log.predict(sXtr)\n",
    "b.head()"
   ]
  },
  {
   "cell_type": "markdown",
   "metadata": {
    "collapsed": true
   },
   "source": [
    "The accuracy indicates that the assumed hypothesis is flawed. We do not need to see the other evaluation metrics because the misclassification error is very poor in the first place.\n",
    "A better hypothesis could be chosen.\n",
    "\n",
    "There are a number of instances where a player passes the ball unintentionally to a player from the other team (called an intercept).\n",
    "A more obvious way of improving the hypothesis would be to delete all cases of intercept.\n",
    "Let's do that and see where it takes us. An additional advantage of doing so would be a drastic reduction in the number of labels. Since, we would no longer consider passes to players from the opposite team, we are left only with 10 classes, each representing a player from the sender's team."
   ]
  },
  {
   "cell_type": "code",
   "execution_count": null,
   "metadata": {
    "collapsed": true
   },
   "outputs": [],
   "source": []
  }
 ],
 "metadata": {
  "kernelspec": {
   "display_name": "Python 3",
   "language": "python",
   "name": "python3"
  },
  "language_info": {
   "codemirror_mode": {
    "name": "ipython",
    "version": 3
   },
   "file_extension": ".py",
   "mimetype": "text/x-python",
   "name": "python",
   "nbconvert_exporter": "python",
   "pygments_lexer": "ipython3",
   "version": "3.6.3"
  }
 },
 "nbformat": 4,
 "nbformat_minor": 2
}
