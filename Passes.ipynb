{
 "cells": [
  {
   "cell_type": "code",
   "execution_count": 1,
   "metadata": {
    "collapsed": true
   },
   "outputs": [],
   "source": [
    "import numpy as np\n",
    "import pandas as pd\n",
    "import matplotlib.pyplot as plt\n",
    "import operator\n",
    "import time"
   ]
  },
  {
   "cell_type": "code",
   "execution_count": 2,
   "metadata": {
    "collapsed": true
   },
   "outputs": [],
   "source": [
    "file = pd.read_csv('passes.csv')"
   ]
  },
  {
   "cell_type": "code",
   "execution_count": 3,
   "metadata": {},
   "outputs": [
    {
     "data": {
      "text/html": [
       "<div>\n",
       "<style>\n",
       "    .dataframe thead tr:only-child th {\n",
       "        text-align: right;\n",
       "    }\n",
       "\n",
       "    .dataframe thead th {\n",
       "        text-align: left;\n",
       "    }\n",
       "\n",
       "    .dataframe tbody tr th {\n",
       "        vertical-align: top;\n",
       "    }\n",
       "</style>\n",
       "<table border=\"1\" class=\"dataframe\">\n",
       "  <thead>\n",
       "    <tr style=\"text-align: right;\">\n",
       "      <th></th>\n",
       "      <th>time_start</th>\n",
       "      <th>time_end</th>\n",
       "      <th>sender_id</th>\n",
       "      <th>receiver_id</th>\n",
       "      <th>x_1</th>\n",
       "      <th>x_2</th>\n",
       "      <th>x_3</th>\n",
       "      <th>x_4</th>\n",
       "      <th>x_5</th>\n",
       "      <th>x_6</th>\n",
       "      <th>...</th>\n",
       "      <th>y_19</th>\n",
       "      <th>y_20</th>\n",
       "      <th>y_21</th>\n",
       "      <th>y_22</th>\n",
       "      <th>y_23</th>\n",
       "      <th>y_24</th>\n",
       "      <th>y_25</th>\n",
       "      <th>y_26</th>\n",
       "      <th>y_27</th>\n",
       "      <th>y_28</th>\n",
       "    </tr>\n",
       "  </thead>\n",
       "  <tbody>\n",
       "    <tr>\n",
       "      <th>0</th>\n",
       "      <td>1396100</td>\n",
       "      <td>1397300</td>\n",
       "      <td>26</td>\n",
       "      <td>18</td>\n",
       "      <td>890.0</td>\n",
       "      <td>830.0</td>\n",
       "      <td>1610.0</td>\n",
       "      <td>NaN</td>\n",
       "      <td>310.0</td>\n",
       "      <td>310.0</td>\n",
       "      <td>...</td>\n",
       "      <td>NaN</td>\n",
       "      <td>3080.0</td>\n",
       "      <td>-180.0</td>\n",
       "      <td>-110.0</td>\n",
       "      <td>390.0</td>\n",
       "      <td>-2470.0</td>\n",
       "      <td>330.0</td>\n",
       "      <td>0.0</td>\n",
       "      <td>NaN</td>\n",
       "      <td>1430.0</td>\n",
       "    </tr>\n",
       "    <tr>\n",
       "      <th>1</th>\n",
       "      <td>78900</td>\n",
       "      <td>81100</td>\n",
       "      <td>11</td>\n",
       "      <td>14</td>\n",
       "      <td>3070.0</td>\n",
       "      <td>NaN</td>\n",
       "      <td>940.0</td>\n",
       "      <td>4450.0</td>\n",
       "      <td>1460.0</td>\n",
       "      <td>1680.0</td>\n",
       "      <td>...</td>\n",
       "      <td>2240.0</td>\n",
       "      <td>NaN</td>\n",
       "      <td>NaN</td>\n",
       "      <td>-720.0</td>\n",
       "      <td>2470.0</td>\n",
       "      <td>1230.0</td>\n",
       "      <td>1380.0</td>\n",
       "      <td>770.0</td>\n",
       "      <td>-1350.0</td>\n",
       "      <td>-160.0</td>\n",
       "    </tr>\n",
       "    <tr>\n",
       "      <th>2</th>\n",
       "      <td>36600</td>\n",
       "      <td>37300</td>\n",
       "      <td>4</td>\n",
       "      <td>10</td>\n",
       "      <td>-180.0</td>\n",
       "      <td>NaN</td>\n",
       "      <td>-1440.0</td>\n",
       "      <td>-160.0</td>\n",
       "      <td>-1370.0</td>\n",
       "      <td>-1140.0</td>\n",
       "      <td>...</td>\n",
       "      <td>2250.0</td>\n",
       "      <td>NaN</td>\n",
       "      <td>NaN</td>\n",
       "      <td>320.0</td>\n",
       "      <td>2230.0</td>\n",
       "      <td>1370.0</td>\n",
       "      <td>570.0</td>\n",
       "      <td>1340.0</td>\n",
       "      <td>-920.0</td>\n",
       "      <td>650.0</td>\n",
       "    </tr>\n",
       "    <tr>\n",
       "      <th>3</th>\n",
       "      <td>370300</td>\n",
       "      <td>371300</td>\n",
       "      <td>12</td>\n",
       "      <td>7</td>\n",
       "      <td>-950.0</td>\n",
       "      <td>-1140.0</td>\n",
       "      <td>1110.0</td>\n",
       "      <td>NaN</td>\n",
       "      <td>-310.0</td>\n",
       "      <td>-2210.0</td>\n",
       "      <td>...</td>\n",
       "      <td>70.0</td>\n",
       "      <td>NaN</td>\n",
       "      <td>-400.0</td>\n",
       "      <td>1620.0</td>\n",
       "      <td>270.0</td>\n",
       "      <td>1200.0</td>\n",
       "      <td>-1810.0</td>\n",
       "      <td>170.0</td>\n",
       "      <td>1820.0</td>\n",
       "      <td>NaN</td>\n",
       "    </tr>\n",
       "    <tr>\n",
       "      <th>4</th>\n",
       "      <td>600</td>\n",
       "      <td>1400</td>\n",
       "      <td>15</td>\n",
       "      <td>24</td>\n",
       "      <td>-880.0</td>\n",
       "      <td>-930.0</td>\n",
       "      <td>-1460.0</td>\n",
       "      <td>150.0</td>\n",
       "      <td>-740.0</td>\n",
       "      <td>-110.0</td>\n",
       "      <td>...</td>\n",
       "      <td>NaN</td>\n",
       "      <td>-450.0</td>\n",
       "      <td>-480.0</td>\n",
       "      <td>260.0</td>\n",
       "      <td>NaN</td>\n",
       "      <td>-210.0</td>\n",
       "      <td>2650.0</td>\n",
       "      <td>2380.0</td>\n",
       "      <td>-2790.0</td>\n",
       "      <td>NaN</td>\n",
       "    </tr>\n",
       "  </tbody>\n",
       "</table>\n",
       "<p>5 rows × 60 columns</p>\n",
       "</div>"
      ],
      "text/plain": [
       "   time_start  time_end  sender_id  receiver_id     x_1     x_2     x_3  \\\n",
       "0     1396100   1397300         26           18   890.0   830.0  1610.0   \n",
       "1       78900     81100         11           14  3070.0     NaN   940.0   \n",
       "2       36600     37300          4           10  -180.0     NaN -1440.0   \n",
       "3      370300    371300         12            7  -950.0 -1140.0  1110.0   \n",
       "4         600      1400         15           24  -880.0  -930.0 -1460.0   \n",
       "\n",
       "      x_4     x_5     x_6   ...      y_19    y_20   y_21    y_22    y_23  \\\n",
       "0     NaN   310.0   310.0   ...       NaN  3080.0 -180.0  -110.0   390.0   \n",
       "1  4450.0  1460.0  1680.0   ...    2240.0     NaN    NaN  -720.0  2470.0   \n",
       "2  -160.0 -1370.0 -1140.0   ...    2250.0     NaN    NaN   320.0  2230.0   \n",
       "3     NaN  -310.0 -2210.0   ...      70.0     NaN -400.0  1620.0   270.0   \n",
       "4   150.0  -740.0  -110.0   ...       NaN  -450.0 -480.0   260.0     NaN   \n",
       "\n",
       "     y_24    y_25    y_26    y_27    y_28  \n",
       "0 -2470.0   330.0     0.0     NaN  1430.0  \n",
       "1  1230.0  1380.0   770.0 -1350.0  -160.0  \n",
       "2  1370.0   570.0  1340.0  -920.0   650.0  \n",
       "3  1200.0 -1810.0   170.0  1820.0     NaN  \n",
       "4  -210.0  2650.0  2380.0 -2790.0     NaN  \n",
       "\n",
       "[5 rows x 60 columns]"
      ]
     },
     "execution_count": 3,
     "metadata": {},
     "output_type": "execute_result"
    }
   ],
   "source": [
    "file.head()"
   ]
  },
  {
   "cell_type": "code",
   "execution_count": 4,
   "metadata": {},
   "outputs": [
    {
     "data": {
      "text/plain": [
       "50.670000000000002"
      ]
     },
     "execution_count": 4,
     "metadata": {},
     "output_type": "execute_result"
    }
   ],
   "source": [
    "np.max(file.time_start)/60000 #-np.max(file.time_start)"
   ]
  },
  {
   "cell_type": "code",
   "execution_count": 5,
   "metadata": {
    "collapsed": true
   },
   "outputs": [],
   "source": [
    "#file[(np.isfinite(file.x_4) == False) & (np.isfinite(file.x_19) == False)]"
   ]
  },
  {
   "cell_type": "code",
   "execution_count": 6,
   "metadata": {
    "collapsed": true
   },
   "outputs": [],
   "source": [
    "#file[(file['sender_id'] < 15) & (file['receiver_id'] < 15) ]"
   ]
  },
  {
   "cell_type": "code",
   "execution_count": 7,
   "metadata": {},
   "outputs": [
    {
     "data": {
      "text/plain": [
       "array([-1550.,  1360., -1420., ...,   920., -1390.,   180.])"
      ]
     },
     "execution_count": 7,
     "metadata": {},
     "output_type": "execute_result"
    }
   ],
   "source": [
    "file.loc[:,'x_28'].values"
   ]
  },
  {
   "cell_type": "code",
   "execution_count": 8,
   "metadata": {
    "collapsed": true
   },
   "outputs": [],
   "source": [
    "data = pd.DataFrame()\n",
    "data['sender'] = file['sender_id']\n",
    "data['receiver'] = file['receiver_id']\n",
    "data['time_start'] = file['time_start']\n",
    "data['time_end'] = file['time_end']\n",
    "for i in range(1,29):\n",
    "    data['P'+str(i)] = list(zip(file['x_'+str(i)],file['y_'+str(i)]))"
   ]
  },
  {
   "cell_type": "code",
   "execution_count": 9,
   "metadata": {},
   "outputs": [
    {
     "data": {
      "text/html": [
       "<div>\n",
       "<style>\n",
       "    .dataframe thead tr:only-child th {\n",
       "        text-align: right;\n",
       "    }\n",
       "\n",
       "    .dataframe thead th {\n",
       "        text-align: left;\n",
       "    }\n",
       "\n",
       "    .dataframe tbody tr th {\n",
       "        vertical-align: top;\n",
       "    }\n",
       "</style>\n",
       "<table border=\"1\" class=\"dataframe\">\n",
       "  <thead>\n",
       "    <tr style=\"text-align: right;\">\n",
       "      <th></th>\n",
       "      <th>sender</th>\n",
       "      <th>receiver</th>\n",
       "      <th>time_start</th>\n",
       "      <th>time_end</th>\n",
       "      <th>P1</th>\n",
       "      <th>P2</th>\n",
       "      <th>P3</th>\n",
       "      <th>P4</th>\n",
       "      <th>P5</th>\n",
       "      <th>P6</th>\n",
       "      <th>...</th>\n",
       "      <th>P19</th>\n",
       "      <th>P20</th>\n",
       "      <th>P21</th>\n",
       "      <th>P22</th>\n",
       "      <th>P23</th>\n",
       "      <th>P24</th>\n",
       "      <th>P25</th>\n",
       "      <th>P26</th>\n",
       "      <th>P27</th>\n",
       "      <th>P28</th>\n",
       "    </tr>\n",
       "  </thead>\n",
       "  <tbody>\n",
       "    <tr>\n",
       "      <th>0</th>\n",
       "      <td>26</td>\n",
       "      <td>18</td>\n",
       "      <td>1396100</td>\n",
       "      <td>1397300</td>\n",
       "      <td>(890.0, 200.0)</td>\n",
       "      <td>(830.0, -440.0)</td>\n",
       "      <td>(1610.0, -460.0)</td>\n",
       "      <td>(nan, nan)</td>\n",
       "      <td>(310.0, 860.0)</td>\n",
       "      <td>(310.0, -1380.0)</td>\n",
       "      <td>...</td>\n",
       "      <td>(nan, nan)</td>\n",
       "      <td>(-170.0, 3080.0)</td>\n",
       "      <td>(140.0, -180.0)</td>\n",
       "      <td>(-4820.0, -110.0)</td>\n",
       "      <td>(-2090.0, 390.0)</td>\n",
       "      <td>(-310.0, -2470.0)</td>\n",
       "      <td>(-1010.0, 330.0)</td>\n",
       "      <td>(100.0, 0.0)</td>\n",
       "      <td>(nan, nan)</td>\n",
       "      <td>(-1550.0, 1430.0)</td>\n",
       "    </tr>\n",
       "    <tr>\n",
       "      <th>1</th>\n",
       "      <td>11</td>\n",
       "      <td>14</td>\n",
       "      <td>78900</td>\n",
       "      <td>81100</td>\n",
       "      <td>(3070.0, 800.0)</td>\n",
       "      <td>(nan, nan)</td>\n",
       "      <td>(940.0, -460.0)</td>\n",
       "      <td>(4450.0, 2050.0)</td>\n",
       "      <td>(1460.0, 1320.0)</td>\n",
       "      <td>(1680.0, 2300.0)</td>\n",
       "      <td>...</td>\n",
       "      <td>(-110.0, 2240.0)</td>\n",
       "      <td>(nan, nan)</td>\n",
       "      <td>(nan, nan)</td>\n",
       "      <td>(-660.0, -720.0)</td>\n",
       "      <td>(1960.0, 2470.0)</td>\n",
       "      <td>(2810.0, 1230.0)</td>\n",
       "      <td>(4960.0, 1380.0)</td>\n",
       "      <td>(-580.0, 770.0)</td>\n",
       "      <td>(3310.0, -1350.0)</td>\n",
       "      <td>(1360.0, -160.0)</td>\n",
       "    </tr>\n",
       "    <tr>\n",
       "      <th>2</th>\n",
       "      <td>4</td>\n",
       "      <td>10</td>\n",
       "      <td>36600</td>\n",
       "      <td>37300</td>\n",
       "      <td>(-180.0, 1040.0)</td>\n",
       "      <td>(nan, nan)</td>\n",
       "      <td>(-1440.0, 1010.0)</td>\n",
       "      <td>(-160.0, 2330.0)</td>\n",
       "      <td>(-1370.0, 1070.0)</td>\n",
       "      <td>(-1140.0, 1330.0)</td>\n",
       "      <td>...</td>\n",
       "      <td>(-1580.0, 2250.0)</td>\n",
       "      <td>(nan, nan)</td>\n",
       "      <td>(nan, nan)</td>\n",
       "      <td>(-2290.0, 320.0)</td>\n",
       "      <td>(-440.0, 2230.0)</td>\n",
       "      <td>(-170.0, 1370.0)</td>\n",
       "      <td>(600.0, 570.0)</td>\n",
       "      <td>(-2170.0, 1340.0)</td>\n",
       "      <td>(-250.0, -920.0)</td>\n",
       "      <td>(-1420.0, 650.0)</td>\n",
       "    </tr>\n",
       "    <tr>\n",
       "      <th>3</th>\n",
       "      <td>12</td>\n",
       "      <td>7</td>\n",
       "      <td>370300</td>\n",
       "      <td>371300</td>\n",
       "      <td>(-950.0, 1170.0)</td>\n",
       "      <td>(-1140.0, -390.0)</td>\n",
       "      <td>(1110.0, 530.0)</td>\n",
       "      <td>(nan, nan)</td>\n",
       "      <td>(-310.0, 2370.0)</td>\n",
       "      <td>(-2210.0, -1870.0)</td>\n",
       "      <td>...</td>\n",
       "      <td>(3960.0, 70.0)</td>\n",
       "      <td>(nan, nan)</td>\n",
       "      <td>(710.0, -400.0)</td>\n",
       "      <td>(-1570.0, 1620.0)</td>\n",
       "      <td>(-590.0, 270.0)</td>\n",
       "      <td>(-250.0, 1200.0)</td>\n",
       "      <td>(-70.0, -1810.0)</td>\n",
       "      <td>(-1540.0, 170.0)</td>\n",
       "      <td>(160.0, 1820.0)</td>\n",
       "      <td>(nan, nan)</td>\n",
       "    </tr>\n",
       "    <tr>\n",
       "      <th>4</th>\n",
       "      <td>15</td>\n",
       "      <td>24</td>\n",
       "      <td>600</td>\n",
       "      <td>1400</td>\n",
       "      <td>(-880.0, -20.0)</td>\n",
       "      <td>(-930.0, 1040.0)</td>\n",
       "      <td>(-1460.0, -1660.0)</td>\n",
       "      <td>(150.0, -720.0)</td>\n",
       "      <td>(-740.0, -330.0)</td>\n",
       "      <td>(-110.0, 1370.0)</td>\n",
       "      <td>...</td>\n",
       "      <td>(nan, nan)</td>\n",
       "      <td>(1290.0, -450.0)</td>\n",
       "      <td>(2340.0, -480.0)</td>\n",
       "      <td>(950.0, 260.0)</td>\n",
       "      <td>(nan, nan)</td>\n",
       "      <td>(0.0, -210.0)</td>\n",
       "      <td>(830.0, 2650.0)</td>\n",
       "      <td>(10.0, 2380.0)</td>\n",
       "      <td>(1230.0, -2790.0)</td>\n",
       "      <td>(nan, nan)</td>\n",
       "    </tr>\n",
       "  </tbody>\n",
       "</table>\n",
       "<p>5 rows × 32 columns</p>\n",
       "</div>"
      ],
      "text/plain": [
       "   sender  receiver  time_start  time_end                P1  \\\n",
       "0      26        18     1396100   1397300    (890.0, 200.0)   \n",
       "1      11        14       78900     81100   (3070.0, 800.0)   \n",
       "2       4        10       36600     37300  (-180.0, 1040.0)   \n",
       "3      12         7      370300    371300  (-950.0, 1170.0)   \n",
       "4      15        24         600      1400   (-880.0, -20.0)   \n",
       "\n",
       "                  P2                  P3                P4                 P5  \\\n",
       "0    (830.0, -440.0)    (1610.0, -460.0)        (nan, nan)     (310.0, 860.0)   \n",
       "1         (nan, nan)     (940.0, -460.0)  (4450.0, 2050.0)   (1460.0, 1320.0)   \n",
       "2         (nan, nan)   (-1440.0, 1010.0)  (-160.0, 2330.0)  (-1370.0, 1070.0)   \n",
       "3  (-1140.0, -390.0)     (1110.0, 530.0)        (nan, nan)   (-310.0, 2370.0)   \n",
       "4   (-930.0, 1040.0)  (-1460.0, -1660.0)   (150.0, -720.0)   (-740.0, -330.0)   \n",
       "\n",
       "                   P6        ...                        P19               P20  \\\n",
       "0    (310.0, -1380.0)        ...                 (nan, nan)  (-170.0, 3080.0)   \n",
       "1    (1680.0, 2300.0)        ...           (-110.0, 2240.0)        (nan, nan)   \n",
       "2   (-1140.0, 1330.0)        ...          (-1580.0, 2250.0)        (nan, nan)   \n",
       "3  (-2210.0, -1870.0)        ...             (3960.0, 70.0)        (nan, nan)   \n",
       "4    (-110.0, 1370.0)        ...                 (nan, nan)  (1290.0, -450.0)   \n",
       "\n",
       "                P21                P22               P23                P24  \\\n",
       "0   (140.0, -180.0)  (-4820.0, -110.0)  (-2090.0, 390.0)  (-310.0, -2470.0)   \n",
       "1        (nan, nan)   (-660.0, -720.0)  (1960.0, 2470.0)   (2810.0, 1230.0)   \n",
       "2        (nan, nan)   (-2290.0, 320.0)  (-440.0, 2230.0)   (-170.0, 1370.0)   \n",
       "3   (710.0, -400.0)  (-1570.0, 1620.0)   (-590.0, 270.0)   (-250.0, 1200.0)   \n",
       "4  (2340.0, -480.0)     (950.0, 260.0)        (nan, nan)      (0.0, -210.0)   \n",
       "\n",
       "                P25                P26                P27                P28  \n",
       "0  (-1010.0, 330.0)       (100.0, 0.0)         (nan, nan)  (-1550.0, 1430.0)  \n",
       "1  (4960.0, 1380.0)    (-580.0, 770.0)  (3310.0, -1350.0)   (1360.0, -160.0)  \n",
       "2    (600.0, 570.0)  (-2170.0, 1340.0)   (-250.0, -920.0)   (-1420.0, 650.0)  \n",
       "3  (-70.0, -1810.0)   (-1540.0, 170.0)    (160.0, 1820.0)         (nan, nan)  \n",
       "4   (830.0, 2650.0)     (10.0, 2380.0)  (1230.0, -2790.0)         (nan, nan)  \n",
       "\n",
       "[5 rows x 32 columns]"
      ]
     },
     "execution_count": 9,
     "metadata": {},
     "output_type": "execute_result"
    }
   ],
   "source": [
    "data.head()"
   ]
  },
  {
   "cell_type": "code",
   "execution_count": 10,
   "metadata": {
    "collapsed": true
   },
   "outputs": [],
   "source": [
    "def get_loc(index,P):\n",
    "    x = data[index:index+1][P].values[0][0]\n",
    "    y = data[index:index+1][P].values[0][1]\n",
    "    \n",
    "    if not np.isfinite(x):\n",
    "        x = 6000\n",
    "        y = 0\n",
    "    if not np.isfinite(y):\n",
    "        x=6000\n",
    "        y=0\n",
    "    return x,y\n",
    "\n",
    "def distance(index,P1,P2):\n",
    "    return np.sqrt((get_loc(index,P1)[0]-get_loc(index,P2)[0])**2 + (get_loc(index,P1)[1]-get_loc(index,P2)[1])**2)    "
   ]
  },
  {
   "cell_type": "code",
   "execution_count": null,
   "metadata": {
    "collapsed": true
   },
   "outputs": [],
   "source": []
  },
  {
   "cell_type": "code",
   "execution_count": 11,
   "metadata": {},
   "outputs": [
    {
     "name": "stdout",
     "output_type": "stream",
     "text": [
      "(100.0, 0.0)\n",
      "(-850.0, -180.0)\n",
      "966.902270139\n"
     ]
    }
   ],
   "source": [
    "print (get_loc(0,'P26'))\n",
    "print (get_loc(0,'P18'))\n",
    "print (distance(0,'P26','P18'))"
   ]
  },
  {
   "cell_type": "code",
   "execution_count": 12,
   "metadata": {
    "collapsed": true
   },
   "outputs": [],
   "source": [
    "l=[]\n",
    "for i in range(1,29):\n",
    "    l.append(distance(0,'P26','P'+str(i)))"
   ]
  },
  {
   "cell_type": "code",
   "execution_count": 13,
   "metadata": {
    "scrolled": false
   },
   "outputs": [
    {
     "name": "stdout",
     "output_type": "stream",
     "text": [
      "sender=  [9]      receiver=  [3]\n"
     ]
    },
    {
     "data": {
      "image/png": "[encoded data removed]",
      "text/plain": [
       "<matplotlib.figure.Figure at 0x2147fd0eb38>"
      ]
     },
     "metadata": {},
     "output_type": "display_data"
    },
    {
     "data": {
      "text/html": [
       "<div>\n",
       "<style>\n",
       "    .dataframe thead tr:only-child th {\n",
       "        text-align: right;\n",
       "    }\n",
       "\n",
       "    .dataframe thead th {\n",
       "        text-align: left;\n",
       "    }\n",
       "\n",
       "    .dataframe tbody tr th {\n",
       "        vertical-align: top;\n",
       "    }\n",
       "</style>\n",
       "<table border=\"1\" class=\"dataframe\">\n",
       "  <thead>\n",
       "    <tr style=\"text-align: right;\">\n",
       "      <th></th>\n",
       "      <th>sender</th>\n",
       "      <th>receiver</th>\n",
       "      <th>time_start</th>\n",
       "      <th>time_end</th>\n",
       "      <th>P1</th>\n",
       "      <th>P2</th>\n",
       "      <th>P3</th>\n",
       "      <th>P4</th>\n",
       "      <th>P5</th>\n",
       "      <th>P6</th>\n",
       "      <th>...</th>\n",
       "      <th>P19</th>\n",
       "      <th>P20</th>\n",
       "      <th>P21</th>\n",
       "      <th>P22</th>\n",
       "      <th>P23</th>\n",
       "      <th>P24</th>\n",
       "      <th>P25</th>\n",
       "      <th>P26</th>\n",
       "      <th>P27</th>\n",
       "      <th>P28</th>\n",
       "    </tr>\n",
       "  </thead>\n",
       "  <tbody>\n",
       "    <tr>\n",
       "      <th>12000</th>\n",
       "      <td>9</td>\n",
       "      <td>3</td>\n",
       "      <td>86400</td>\n",
       "      <td>87500</td>\n",
       "      <td>(-520.0, -170.0)</td>\n",
       "      <td>(310.0, -2190.0)</td>\n",
       "      <td>(170.0, 1090.0)</td>\n",
       "      <td>(-2590.0, -510.0)</td>\n",
       "      <td>(-2360.0, 2890.0)</td>\n",
       "      <td>(-1850.0, 1500.0)</td>\n",
       "      <td>...</td>\n",
       "      <td>(-1860.0, 170.0)</td>\n",
       "      <td>(nan, nan)</td>\n",
       "      <td>(-680.0, -360.0)</td>\n",
       "      <td>(130.0, -350.0)</td>\n",
       "      <td>(-890.0, -1890.0)</td>\n",
       "      <td>(-4820.0, -100.0)</td>\n",
       "      <td>(-2740.0, 1520.0)</td>\n",
       "      <td>(nan, nan)</td>\n",
       "      <td>(-2920.0, -1030.0)</td>\n",
       "      <td>(-1500.0, -880.0)</td>\n",
       "    </tr>\n",
       "  </tbody>\n",
       "</table>\n",
       "<p>1 rows × 32 columns</p>\n",
       "</div>"
      ],
      "text/plain": [
       "       sender  receiver  time_start  time_end                P1  \\\n",
       "12000       9         3       86400     87500  (-520.0, -170.0)   \n",
       "\n",
       "                     P2               P3                 P4  \\\n",
       "12000  (310.0, -2190.0)  (170.0, 1090.0)  (-2590.0, -510.0)   \n",
       "\n",
       "                      P5                 P6        ...          \\\n",
       "12000  (-2360.0, 2890.0)  (-1850.0, 1500.0)        ...           \n",
       "\n",
       "                    P19         P20               P21              P22  \\\n",
       "12000  (-1860.0, 170.0)  (nan, nan)  (-680.0, -360.0)  (130.0, -350.0)   \n",
       "\n",
       "                     P23                P24                P25         P26  \\\n",
       "12000  (-890.0, -1890.0)  (-4820.0, -100.0)  (-2740.0, 1520.0)  (nan, nan)   \n",
       "\n",
       "                      P27                P28  \n",
       "12000  (-2920.0, -1030.0)  (-1500.0, -880.0)  \n",
       "\n",
       "[1 rows x 32 columns]"
      ]
     },
     "execution_count": 13,
     "metadata": {},
     "output_type": "execute_result"
    }
   ],
   "source": [
    "h = 12000\n",
    "print ('sender= ',data[h:h+1]['sender'].values,'     receiver= ',data[h:h+1]['receiver'].values)\n",
    "fig_size = plt.rcParams[\"figure.figsize\"]\n",
    "fig_size[0] = 20\n",
    "fig_size[1] = 10\n",
    "\n",
    "plt.grid(linestyle='-', linewidth=0.2)\n",
    "\n",
    "for i in range(1,29):\n",
    "    if i<15:\n",
    "        if np.isfinite(get_loc(h,'P'+str(i))[0]) and np.isfinite(get_loc(h,'P'+str(i))[1]):\n",
    "            plt.plot(get_loc(h,'P'+str(i))[0],get_loc(0,'P'+str(i))[1],'ro')\n",
    "            text_ = 'P'+str(i)\n",
    "            plt.text(get_loc(h,text_)[0],get_loc(0,text_)[1],text_)\n",
    "    else:\n",
    "         if np.isfinite(get_loc(h,'P'+str(i))[0]) and np.isfinite(get_loc(h,'P'+str(i))[1]):\n",
    "            plt.plot(get_loc(h,'P'+str(i))[0],get_loc(0,'P'+str(i))[1],'bo')\n",
    "            text_ = 'P'+str(i)\n",
    "            plt.text(get_loc(h,text_)[0],get_loc(0,text_)[1],text_)\n",
    "plt.legend()\n",
    "plt.show()\n",
    "data[h:h+1]"
   ]
  },
  {
   "cell_type": "code",
   "execution_count": 14,
   "metadata": {
    "collapsed": true
   },
   "outputs": [],
   "source": [
    "## Count the number of NaNs in every row\n",
    "for index_ in range(data.shape[0]):\n",
    "    cou = 0\n",
    "    for element in data.iloc[i,4:]:\n",
    "        if (np.isfinite(element[0]) == False) and (np.isfinite(element[1]) ==  False):\n",
    "            cou +=1\n",
    "    if (cou != 6):\n",
    "        print (index_)\n",
    "        "
   ]
  },
  {
   "cell_type": "code",
   "execution_count": 15,
   "metadata": {},
   "outputs": [
    {
     "name": "stdout",
     "output_type": "stream",
     "text": [
      "655\n",
      "2268\n",
      "2729\n",
      "9082\n",
      "9795\n",
      "11269\n"
     ]
    }
   ],
   "source": [
    "remove = []\n",
    "# Same sender and receiver\n",
    "for index_ in range(data.shape[0]):\n",
    "    if data.sender[index_] == data.receiver[index_]:\n",
    "        remove.append(index_)\n",
    "        print (index_)\n",
    "        "
   ]
  },
  {
   "cell_type": "code",
   "execution_count": 16,
   "metadata": {},
   "outputs": [
    {
     "name": "stdout",
     "output_type": "stream",
     "text": [
      "898\n"
     ]
    }
   ],
   "source": [
    "# Receiver is nan\n",
    "for index_ in range(data.shape[0]):\n",
    "    if (np.isfinite(data['P'+str(data.receiver[index_])][index_][0]) == False):\n",
    "        remove.append(index_)\n",
    "        print (index_)"
   ]
  },
  {
   "cell_type": "code",
   "execution_count": 17,
   "metadata": {},
   "outputs": [
    {
     "name": "stdout",
     "output_type": "stream",
     "text": [
      "1161\n"
     ]
    }
   ],
   "source": [
    "# Sender is nan\n",
    "for index_ in range(data.shape[0]):\n",
    "    if (np.isfinite(data['P'+str(data.sender[index_])][index_][0]) == False):\n",
    "        remove.append(index_)\n",
    "        print (index_)"
   ]
  },
  {
   "cell_type": "code",
   "execution_count": 18,
   "metadata": {},
   "outputs": [
    {
     "data": {
      "text/plain": [
       "[655, 2268, 2729, 9082, 9795, 11269, 898, 1161]"
      ]
     },
     "execution_count": 18,
     "metadata": {},
     "output_type": "execute_result"
    }
   ],
   "source": [
    "remove"
   ]
  },
  {
   "cell_type": "code",
   "execution_count": null,
   "metadata": {
    "collapsed": true
   },
   "outputs": [],
   "source": []
  },
  {
   "cell_type": "code",
   "execution_count": 19,
   "metadata": {},
   "outputs": [
    {
     "data": {
      "text/html": [
       "<div>\n",
       "<style>\n",
       "    .dataframe thead tr:only-child th {\n",
       "        text-align: right;\n",
       "    }\n",
       "\n",
       "    .dataframe thead th {\n",
       "        text-align: left;\n",
       "    }\n",
       "\n",
       "    .dataframe tbody tr th {\n",
       "        vertical-align: top;\n",
       "    }\n",
       "</style>\n",
       "<table border=\"1\" class=\"dataframe\">\n",
       "  <thead>\n",
       "    <tr style=\"text-align: right;\">\n",
       "      <th></th>\n",
       "      <th>sender</th>\n",
       "      <th>receiver</th>\n",
       "      <th>time_start</th>\n",
       "      <th>time_end</th>\n",
       "      <th>P1</th>\n",
       "      <th>P2</th>\n",
       "      <th>P3</th>\n",
       "      <th>P4</th>\n",
       "      <th>P5</th>\n",
       "      <th>P6</th>\n",
       "      <th>...</th>\n",
       "      <th>P19</th>\n",
       "      <th>P20</th>\n",
       "      <th>P21</th>\n",
       "      <th>P22</th>\n",
       "      <th>P23</th>\n",
       "      <th>P24</th>\n",
       "      <th>P25</th>\n",
       "      <th>P26</th>\n",
       "      <th>P27</th>\n",
       "      <th>P28</th>\n",
       "    </tr>\n",
       "  </thead>\n",
       "  <tbody>\n",
       "    <tr>\n",
       "      <th>653</th>\n",
       "      <td>17</td>\n",
       "      <td>28</td>\n",
       "      <td>247400</td>\n",
       "      <td>248800</td>\n",
       "      <td>(-1180.0, 2030.0)</td>\n",
       "      <td>(-1140.0, 360.0)</td>\n",
       "      <td>(-620.0, -1480.0)</td>\n",
       "      <td>(20.0, 2450.0)</td>\n",
       "      <td>(-2160.0, -930.0)</td>\n",
       "      <td>(190.0, 820.0)</td>\n",
       "      <td>...</td>\n",
       "      <td>(nan, nan)</td>\n",
       "      <td>(nan, nan)</td>\n",
       "      <td>(-3590.0, 1000.0)</td>\n",
       "      <td>(-2690.0, 1630.0)</td>\n",
       "      <td>(-970.0, 2600.0)</td>\n",
       "      <td>(4230.0, 160.0)</td>\n",
       "      <td>(660.0, -1190.0)</td>\n",
       "      <td>(350.0, 1080.0)</td>\n",
       "      <td>(1050.0, 2340.0)</td>\n",
       "      <td>(-750.0, 1170.0)</td>\n",
       "    </tr>\n",
       "    <tr>\n",
       "      <th>654</th>\n",
       "      <td>24</td>\n",
       "      <td>27</td>\n",
       "      <td>1925800</td>\n",
       "      <td>1927200</td>\n",
       "      <td>(-2090.0, 1040.0)</td>\n",
       "      <td>(-1650.0, 2250.0)</td>\n",
       "      <td>(nan, nan)</td>\n",
       "      <td>(-1520.0, -340.0)</td>\n",
       "      <td>(-2920.0, -770.0)</td>\n",
       "      <td>(nan, nan)</td>\n",
       "      <td>...</td>\n",
       "      <td>(-1180.0, 2030.0)</td>\n",
       "      <td>(-1810.0, -1110.0)</td>\n",
       "      <td>(-1060.0, 160.0)</td>\n",
       "      <td>(-2590.0, 1410.0)</td>\n",
       "      <td>(nan, nan)</td>\n",
       "      <td>(-540.0, 2570.0)</td>\n",
       "      <td>(240.0, 1910.0)</td>\n",
       "      <td>(nan, nan)</td>\n",
       "      <td>(-1610.0, 1260.0)</td>\n",
       "      <td>(nan, nan)</td>\n",
       "    </tr>\n",
       "    <tr>\n",
       "      <th>655</th>\n",
       "      <td>17</td>\n",
       "      <td>17</td>\n",
       "      <td>2849000</td>\n",
       "      <td>2849200</td>\n",
       "      <td>(1460.0, 2650.0)</td>\n",
       "      <td>(2160.0, 3050.0)</td>\n",
       "      <td>(nan, nan)</td>\n",
       "      <td>(3310.0, 1090.0)</td>\n",
       "      <td>(730.0, 50.0)</td>\n",
       "      <td>(nan, nan)</td>\n",
       "      <td>...</td>\n",
       "      <td>(nan, nan)</td>\n",
       "      <td>(1130.0, 3160.0)</td>\n",
       "      <td>(1400.0, 2500.0)</td>\n",
       "      <td>(2460.0, 3110.0)</td>\n",
       "      <td>(nan, nan)</td>\n",
       "      <td>(5320.0, 250.0)</td>\n",
       "      <td>(3520.0, -80.0)</td>\n",
       "      <td>(2640.0, 860.0)</td>\n",
       "      <td>(3770.0, 1320.0)</td>\n",
       "      <td>(nan, nan)</td>\n",
       "    </tr>\n",
       "  </tbody>\n",
       "</table>\n",
       "<p>3 rows × 32 columns</p>\n",
       "</div>"
      ],
      "text/plain": [
       "     sender  receiver  time_start  time_end                 P1  \\\n",
       "653      17        28      247400    248800  (-1180.0, 2030.0)   \n",
       "654      24        27     1925800   1927200  (-2090.0, 1040.0)   \n",
       "655      17        17     2849000   2849200   (1460.0, 2650.0)   \n",
       "\n",
       "                    P2                 P3                 P4  \\\n",
       "653   (-1140.0, 360.0)  (-620.0, -1480.0)     (20.0, 2450.0)   \n",
       "654  (-1650.0, 2250.0)         (nan, nan)  (-1520.0, -340.0)   \n",
       "655   (2160.0, 3050.0)         (nan, nan)   (3310.0, 1090.0)   \n",
       "\n",
       "                    P5              P6        ...                       P19  \\\n",
       "653  (-2160.0, -930.0)  (190.0, 820.0)        ...                (nan, nan)   \n",
       "654  (-2920.0, -770.0)      (nan, nan)        ...         (-1180.0, 2030.0)   \n",
       "655      (730.0, 50.0)      (nan, nan)        ...                (nan, nan)   \n",
       "\n",
       "                    P20                P21                P22  \\\n",
       "653          (nan, nan)  (-3590.0, 1000.0)  (-2690.0, 1630.0)   \n",
       "654  (-1810.0, -1110.0)   (-1060.0, 160.0)  (-2590.0, 1410.0)   \n",
       "655    (1130.0, 3160.0)   (1400.0, 2500.0)   (2460.0, 3110.0)   \n",
       "\n",
       "                  P23               P24               P25              P26  \\\n",
       "653  (-970.0, 2600.0)   (4230.0, 160.0)  (660.0, -1190.0)  (350.0, 1080.0)   \n",
       "654        (nan, nan)  (-540.0, 2570.0)   (240.0, 1910.0)       (nan, nan)   \n",
       "655        (nan, nan)   (5320.0, 250.0)   (3520.0, -80.0)  (2640.0, 860.0)   \n",
       "\n",
       "                   P27               P28  \n",
       "653   (1050.0, 2340.0)  (-750.0, 1170.0)  \n",
       "654  (-1610.0, 1260.0)        (nan, nan)  \n",
       "655   (3770.0, 1320.0)        (nan, nan)  \n",
       "\n",
       "[3 rows x 32 columns]"
      ]
     },
     "execution_count": 19,
     "metadata": {},
     "output_type": "execute_result"
    }
   ],
   "source": [
    "data[653:656]"
   ]
  },
  {
   "cell_type": "code",
   "execution_count": null,
   "metadata": {
    "collapsed": true
   },
   "outputs": [],
   "source": []
  },
  {
   "cell_type": "code",
   "execution_count": 20,
   "metadata": {
    "collapsed": true
   },
   "outputs": [],
   "source": [
    "def map_player(index):\n",
    "    sender = data.sender[index] #id of sender player\n",
    "    mapp = {}\n",
    "    \n",
    "    \n",
    "    if sender < 15:\n",
    "        for i in range(1,15):\n",
    "            text = 'P'+str(i)\n",
    "            player_loc = data.loc[index,text]\n",
    "            if (np.isfinite(player_loc[0])) and i!=sender:\n",
    "                mapp[i]=distance(index,'P'+str(sender),text)\n",
    "        \n",
    "        mapp=sorted(mapp.items(), key=operator.itemgetter(1))\n",
    "        \n",
    "        li={}\n",
    "        \n",
    "        for i in range(15,29):\n",
    "            text = 'P'+str(i)\n",
    "            player_loc = data.loc[index,text]\n",
    "            if (np.isfinite(player_loc[0])) and i!=sender:\n",
    "                li[i]=distance(index,'P'+str(sender),text)\n",
    "                \n",
    "        li=sorted(li.items(), key=operator.itemgetter(1))\n",
    "        \n",
    "        mapp.extend(li)\n",
    "                \n",
    "    elif sender > 14:\n",
    "        for i in range(15,29):\n",
    "            text = 'P'+str(i)\n",
    "            player_loc = data.loc[index,text]\n",
    "            if (np.isfinite(player_loc[0])) and i!=sender:\n",
    "                mapp[i]=distance(index,'P'+str(sender),text)\n",
    "        \n",
    "        mapp=sorted(mapp.items(), key=operator.itemgetter(1))\n",
    "        \n",
    "        li={}\n",
    "        \n",
    "        for i in range(1,15):\n",
    "            text = 'P'+str(i)\n",
    "            player_loc = data.loc[index,text]\n",
    "            if (np.isfinite(player_loc[0])) and i!=sender:\n",
    "                li[i]=distance(index,'P'+str(sender),text)\n",
    "                \n",
    "        li=sorted(li.items(), key=operator.itemgetter(1))\n",
    "        \n",
    "        mapp.extend(li)\n",
    "            \n",
    "    return mapp"
   ]
  },
  {
   "cell_type": "code",
   "execution_count": 21,
   "metadata": {},
   "outputs": [
    {
     "data": {
      "text/plain": [
       "(nan, nan)"
      ]
     },
     "execution_count": 21,
     "metadata": {},
     "output_type": "execute_result"
    }
   ],
   "source": [
    "data.loc[5,'P7']"
   ]
  },
  {
   "cell_type": "code",
   "execution_count": 22,
   "metadata": {},
   "outputs": [
    {
     "data": {
      "text/plain": [
       "[(1, 1216.4292005702594),\n",
       " (3, 1303.8404810405298),\n",
       " (11, 1373.608386695422),\n",
       " (6, 2048.3163818121457),\n",
       " (5, 2603.2479712851023),\n",
       " (13, 2733.5873865673288),\n",
       " (4, 3860.8289265389626),\n",
       " (9, 4026.1768465878395),\n",
       " (10, 4081.0047782378301),\n",
       " (12, 5014.14997781279),\n",
       " (21, 121.6552506059644),\n",
       " (15, 346.69871646719434),\n",
       " (26, 906.20086073673531),\n",
       " (28, 909.17545061445651),\n",
       " (18, 1173.243367763057),\n",
       " (25, 1179.2370414806346),\n",
       " (27, 1591.7600321656528),\n",
       " (22, 2268.0828909014767),\n",
       " (23, 2410.0622398602072),\n",
       " (17, 2635.773131360133),\n",
       " (24, 3930.2417228460645)]"
      ]
     },
     "execution_count": 22,
     "metadata": {},
     "output_type": "execute_result"
    }
   ],
   "source": [
    "mapp=map_player(3432)\n",
    "mapp"
   ]
  },
  {
   "cell_type": "code",
   "execution_count": 23,
   "metadata": {
    "collapsed": true
   },
   "outputs": [],
   "source": [
    "def make_feature(index):\n",
    "    mapp = map_player(index)\n",
    "    receiver = data.receiver[index]\n",
    "    \n",
    "    id_list=[]\n",
    "    dist_list=[]    \n",
    "    \n",
    "    for element in mapp:\n",
    "        dist_list.append(element[1])\n",
    "        id_list.append(element[0])\n",
    "        \n",
    "    x = np.array(dist_list)\n",
    "       \n",
    "    y = np.zeros((1,21))\n",
    "    y[0,id_list.index(receiver)] = 1\n",
    "\n",
    "    return x,y      "
   ]
  },
  {
   "cell_type": "code",
   "execution_count": 24,
   "metadata": {},
   "outputs": [
    {
     "name": "stdout",
     "output_type": "stream",
     "text": [
      "Time taken to run this block=  1529351911.79904  s.\n"
     ]
    }
   ],
   "source": [
    "start = time.time()\n",
    "X = np.zeros((1,21))\n",
    "for i in range(data.shape[0]):\n",
    "    if i not in remove:\n",
    "        x,y = make_feature(i)\n",
    "        if x.shape[0] == 21:\n",
    "            X = np.append(X,(np.array([x])),axis=0)\n",
    "            \n",
    "print ('Time taken to run this block= ',time.time(),' s.')"
   ]
  },
  {
   "cell_type": "code",
   "execution_count": 25,
   "metadata": {
    "collapsed": true
   },
   "outputs": [],
   "source": [
    "X = np.matrix(np.delete(X, (0), axis=0))"
   ]
  },
  {
   "cell_type": "code",
   "execution_count": 26,
   "metadata": {},
   "outputs": [
    {
     "data": {
      "text/plain": [
       "(11682, 21)"
      ]
     },
     "execution_count": 26,
     "metadata": {},
     "output_type": "execute_result"
    }
   ],
   "source": [
    "X.shape"
   ]
  },
  {
   "cell_type": "code",
   "execution_count": 27,
   "metadata": {
    "collapsed": true
   },
   "outputs": [],
   "source": [
    "np.savetxt('unscaled_featmat.txt',X)"
   ]
  },
  {
   "cell_type": "code",
   "execution_count": 28,
   "metadata": {},
   "outputs": [
    {
     "data": {
      "text/plain": [
       "(array([  434.16586692,   857.02975444,   954.25363505,  1007.02532242,\n",
       "         1042.01727433,  1251.59897731,  1451.20639469,  2427.87973343,\n",
       "         3030.14851121,  7481.79791227,    89.4427191 ,   372.15588132,\n",
       "          430.464865  ,   467.5467891 ,   541.29474411,   895.54452709,\n",
       "         1004.48992031,  1181.27050247,  1261.26920203,  1290.34879006,\n",
       "         1656.80415258]),\n",
       " array([[ 0.,  0.,  0.,  0.,  0.,  0.,  1.,  0.,  0.,  0.,  0.,  0.,  0.,\n",
       "          0.,  0.,  0.,  0.,  0.,  0.,  0.,  0.]]))"
      ]
     },
     "execution_count": 28,
     "metadata": {},
     "output_type": "execute_result"
    }
   ],
   "source": [
    "make_feature(5)"
   ]
  },
  {
   "cell_type": "code",
   "execution_count": null,
   "metadata": {},
   "outputs": [],
   "source": []
  },
  {
   "cell_type": "code",
   "execution_count": null,
   "metadata": {
    "collapsed": true
   },
   "outputs": [],
   "source": []
  }
 ],
 "metadata": {
  "kernelspec": {
   "display_name": "Python 3",
   "language": "python",
   "name": "python3"
  },
  "language_info": {
   "codemirror_mode": {
    "name": "ipython",
    "version": 3
   },
   "file_extension": ".py",
   "mimetype": "text/x-python",
   "name": "python",
   "nbconvert_exporter": "python",
   "pygments_lexer": "ipython3",
   "version": "3.6.3"
  }
 },
 "nbformat": 4,
 "nbformat_minor": 2
}
