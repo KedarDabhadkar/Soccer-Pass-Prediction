{
 "cells": [
  {
   "cell_type": "code",
   "execution_count": 1,
   "metadata": {
    "collapsed": true
   },
   "outputs": [],
   "source": [
    "import numpy as np\n",
    "import pandas as pd\n",
    "import matplotlib.pyplot as plt\n",
    "import operator\n",
    "import time"
   ]
  },
  {
   "cell_type": "code",
   "execution_count": 2,
   "metadata": {
    "collapsed": true
   },
   "outputs": [],
   "source": [
    "from setup import *\n",
    "from data_transform import *\n",
    "from analyze import *"
   ]
  },
  {
   "cell_type": "code",
   "execution_count": 3,
   "metadata": {},
   "outputs": [
    {
     "name": "stdout",
     "output_type": "stream",
     "text": [
      "Help on function get_loc in module setup:\n",
      "\n",
      "get_loc(data, index, P)\n",
      "\n"
     ]
    }
   ],
   "source": [
    "help(get_loc)"
   ]
  },
  {
   "cell_type": "code",
   "execution_count": 4,
   "metadata": {
    "collapsed": true
   },
   "outputs": [],
   "source": [
    "file = pd.read_csv('passes.csv')"
   ]
  },
  {
   "cell_type": "code",
   "execution_count": 5,
   "metadata": {
    "collapsed": true
   },
   "outputs": [],
   "source": [
    "data =transform(file)"
   ]
  },
  {
   "cell_type": "code",
   "execution_count": 6,
   "metadata": {},
   "outputs": [
    {
     "name": "stdout",
     "output_type": "stream",
     "text": [
      "There are 10047 correct passes in the data. The other passes could be unintentional.\n"
     ]
    }
   ],
   "source": [
    "# Count number of correct passes\n",
    "correct_passes = len(data[(data.sender < 15) & (data.receiver < 15)]) + len(data[(data.sender > 14) & (data.receiver > 14)])\n",
    "print ('There are',correct_passes, 'correct passes in the data. The other passes could be unintentional.')"
   ]
  },
  {
   "cell_type": "code",
   "execution_count": 7,
   "metadata": {},
   "outputs": [
    {
     "data": {
      "text/plain": [
       "sender         int64\n",
       "receiver       int64\n",
       "time_start     int64\n",
       "time_end       int64\n",
       "P1            object\n",
       "P2            object\n",
       "P3            object\n",
       "P4            object\n",
       "P5            object\n",
       "P6            object\n",
       "P7            object\n",
       "P8            object\n",
       "P9            object\n",
       "P10           object\n",
       "P11           object\n",
       "P12           object\n",
       "P13           object\n",
       "P14           object\n",
       "P15           object\n",
       "P16           object\n",
       "P17           object\n",
       "P18           object\n",
       "P19           object\n",
       "P20           object\n",
       "P21           object\n",
       "P22           object\n",
       "P23           object\n",
       "P24           object\n",
       "P25           object\n",
       "P26           object\n",
       "P27           object\n",
       "P28           object\n",
       "dtype: object"
      ]
     },
     "execution_count": 7,
     "metadata": {},
     "output_type": "execute_result"
    }
   ],
   "source": [
    "data.dtypes"
   ]
  },
  {
   "cell_type": "code",
   "execution_count": 8,
   "metadata": {},
   "outputs": [
    {
     "data": {
      "text/html": [
       "<div>\n",
       "<style scoped>\n",
       "    .dataframe tbody tr th:only-of-type {\n",
       "        vertical-align: middle;\n",
       "    }\n",
       "\n",
       "    .dataframe tbody tr th {\n",
       "        vertical-align: top;\n",
       "    }\n",
       "\n",
       "    .dataframe thead th {\n",
       "        text-align: right;\n",
       "    }\n",
       "</style>\n",
       "<table border=\"1\" class=\"dataframe\">\n",
       "  <thead>\n",
       "    <tr style=\"text-align: right;\">\n",
       "      <th></th>\n",
       "      <th>sender</th>\n",
       "      <th>receiver</th>\n",
       "      <th>time_start</th>\n",
       "      <th>time_end</th>\n",
       "      <th>P1</th>\n",
       "      <th>P2</th>\n",
       "      <th>P3</th>\n",
       "      <th>P4</th>\n",
       "      <th>P5</th>\n",
       "      <th>P6</th>\n",
       "      <th>...</th>\n",
       "      <th>P19</th>\n",
       "      <th>P20</th>\n",
       "      <th>P21</th>\n",
       "      <th>P22</th>\n",
       "      <th>P23</th>\n",
       "      <th>P24</th>\n",
       "      <th>P25</th>\n",
       "      <th>P26</th>\n",
       "      <th>P27</th>\n",
       "      <th>P28</th>\n",
       "    </tr>\n",
       "  </thead>\n",
       "  <tbody>\n",
       "    <tr>\n",
       "      <th>0</th>\n",
       "      <td>26</td>\n",
       "      <td>18</td>\n",
       "      <td>1396100</td>\n",
       "      <td>1397300</td>\n",
       "      <td>(890.0, 200.0)</td>\n",
       "      <td>(830.0, -440.0)</td>\n",
       "      <td>(1610.0, -460.0)</td>\n",
       "      <td>(nan, nan)</td>\n",
       "      <td>(310.0, 860.0)</td>\n",
       "      <td>(310.0, -1380.0)</td>\n",
       "      <td>...</td>\n",
       "      <td>(nan, nan)</td>\n",
       "      <td>(-170.0, 3080.0)</td>\n",
       "      <td>(140.0, -180.0)</td>\n",
       "      <td>(-4820.0, -110.0)</td>\n",
       "      <td>(-2090.0, 390.0)</td>\n",
       "      <td>(-310.0, -2470.0)</td>\n",
       "      <td>(-1010.0, 330.0)</td>\n",
       "      <td>(100.0, 0.0)</td>\n",
       "      <td>(nan, nan)</td>\n",
       "      <td>(-1550.0, 1430.0)</td>\n",
       "    </tr>\n",
       "    <tr>\n",
       "      <th>1</th>\n",
       "      <td>11</td>\n",
       "      <td>14</td>\n",
       "      <td>78900</td>\n",
       "      <td>81100</td>\n",
       "      <td>(3070.0, 800.0)</td>\n",
       "      <td>(nan, nan)</td>\n",
       "      <td>(940.0, -460.0)</td>\n",
       "      <td>(4450.0, 2050.0)</td>\n",
       "      <td>(1460.0, 1320.0)</td>\n",
       "      <td>(1680.0, 2300.0)</td>\n",
       "      <td>...</td>\n",
       "      <td>(-110.0, 2240.0)</td>\n",
       "      <td>(nan, nan)</td>\n",
       "      <td>(nan, nan)</td>\n",
       "      <td>(-660.0, -720.0)</td>\n",
       "      <td>(1960.0, 2470.0)</td>\n",
       "      <td>(2810.0, 1230.0)</td>\n",
       "      <td>(4960.0, 1380.0)</td>\n",
       "      <td>(-580.0, 770.0)</td>\n",
       "      <td>(3310.0, -1350.0)</td>\n",
       "      <td>(1360.0, -160.0)</td>\n",
       "    </tr>\n",
       "    <tr>\n",
       "      <th>2</th>\n",
       "      <td>4</td>\n",
       "      <td>10</td>\n",
       "      <td>36600</td>\n",
       "      <td>37300</td>\n",
       "      <td>(-180.0, 1040.0)</td>\n",
       "      <td>(nan, nan)</td>\n",
       "      <td>(-1440.0, 1010.0)</td>\n",
       "      <td>(-160.0, 2330.0)</td>\n",
       "      <td>(-1370.0, 1070.0)</td>\n",
       "      <td>(-1140.0, 1330.0)</td>\n",
       "      <td>...</td>\n",
       "      <td>(-1580.0, 2250.0)</td>\n",
       "      <td>(nan, nan)</td>\n",
       "      <td>(nan, nan)</td>\n",
       "      <td>(-2290.0, 320.0)</td>\n",
       "      <td>(-440.0, 2230.0)</td>\n",
       "      <td>(-170.0, 1370.0)</td>\n",
       "      <td>(600.0, 570.0)</td>\n",
       "      <td>(-2170.0, 1340.0)</td>\n",
       "      <td>(-250.0, -920.0)</td>\n",
       "      <td>(-1420.0, 650.0)</td>\n",
       "    </tr>\n",
       "    <tr>\n",
       "      <th>3</th>\n",
       "      <td>12</td>\n",
       "      <td>7</td>\n",
       "      <td>370300</td>\n",
       "      <td>371300</td>\n",
       "      <td>(-950.0, 1170.0)</td>\n",
       "      <td>(-1140.0, -390.0)</td>\n",
       "      <td>(1110.0, 530.0)</td>\n",
       "      <td>(nan, nan)</td>\n",
       "      <td>(-310.0, 2370.0)</td>\n",
       "      <td>(-2210.0, -1870.0)</td>\n",
       "      <td>...</td>\n",
       "      <td>(3960.0, 70.0)</td>\n",
       "      <td>(nan, nan)</td>\n",
       "      <td>(710.0, -400.0)</td>\n",
       "      <td>(-1570.0, 1620.0)</td>\n",
       "      <td>(-590.0, 270.0)</td>\n",
       "      <td>(-250.0, 1200.0)</td>\n",
       "      <td>(-70.0, -1810.0)</td>\n",
       "      <td>(-1540.0, 170.0)</td>\n",
       "      <td>(160.0, 1820.0)</td>\n",
       "      <td>(nan, nan)</td>\n",
       "    </tr>\n",
       "    <tr>\n",
       "      <th>4</th>\n",
       "      <td>15</td>\n",
       "      <td>24</td>\n",
       "      <td>600</td>\n",
       "      <td>1400</td>\n",
       "      <td>(-880.0, -20.0)</td>\n",
       "      <td>(-930.0, 1040.0)</td>\n",
       "      <td>(-1460.0, -1660.0)</td>\n",
       "      <td>(150.0, -720.0)</td>\n",
       "      <td>(-740.0, -330.0)</td>\n",
       "      <td>(-110.0, 1370.0)</td>\n",
       "      <td>...</td>\n",
       "      <td>(nan, nan)</td>\n",
       "      <td>(1290.0, -450.0)</td>\n",
       "      <td>(2340.0, -480.0)</td>\n",
       "      <td>(950.0, 260.0)</td>\n",
       "      <td>(nan, nan)</td>\n",
       "      <td>(0.0, -210.0)</td>\n",
       "      <td>(830.0, 2650.0)</td>\n",
       "      <td>(10.0, 2380.0)</td>\n",
       "      <td>(1230.0, -2790.0)</td>\n",
       "      <td>(nan, nan)</td>\n",
       "    </tr>\n",
       "  </tbody>\n",
       "</table>\n",
       "<p>5 rows × 32 columns</p>\n",
       "</div>"
      ],
      "text/plain": [
       "   sender  receiver  time_start  time_end                P1  \\\n",
       "0      26        18     1396100   1397300    (890.0, 200.0)   \n",
       "1      11        14       78900     81100   (3070.0, 800.0)   \n",
       "2       4        10       36600     37300  (-180.0, 1040.0)   \n",
       "3      12         7      370300    371300  (-950.0, 1170.0)   \n",
       "4      15        24         600      1400   (-880.0, -20.0)   \n",
       "\n",
       "                  P2                  P3                P4                 P5  \\\n",
       "0    (830.0, -440.0)    (1610.0, -460.0)        (nan, nan)     (310.0, 860.0)   \n",
       "1         (nan, nan)     (940.0, -460.0)  (4450.0, 2050.0)   (1460.0, 1320.0)   \n",
       "2         (nan, nan)   (-1440.0, 1010.0)  (-160.0, 2330.0)  (-1370.0, 1070.0)   \n",
       "3  (-1140.0, -390.0)     (1110.0, 530.0)        (nan, nan)   (-310.0, 2370.0)   \n",
       "4   (-930.0, 1040.0)  (-1460.0, -1660.0)   (150.0, -720.0)   (-740.0, -330.0)   \n",
       "\n",
       "                   P6        ...                        P19               P20  \\\n",
       "0    (310.0, -1380.0)        ...                 (nan, nan)  (-170.0, 3080.0)   \n",
       "1    (1680.0, 2300.0)        ...           (-110.0, 2240.0)        (nan, nan)   \n",
       "2   (-1140.0, 1330.0)        ...          (-1580.0, 2250.0)        (nan, nan)   \n",
       "3  (-2210.0, -1870.0)        ...             (3960.0, 70.0)        (nan, nan)   \n",
       "4    (-110.0, 1370.0)        ...                 (nan, nan)  (1290.0, -450.0)   \n",
       "\n",
       "                P21                P22               P23                P24  \\\n",
       "0   (140.0, -180.0)  (-4820.0, -110.0)  (-2090.0, 390.0)  (-310.0, -2470.0)   \n",
       "1        (nan, nan)   (-660.0, -720.0)  (1960.0, 2470.0)   (2810.0, 1230.0)   \n",
       "2        (nan, nan)   (-2290.0, 320.0)  (-440.0, 2230.0)   (-170.0, 1370.0)   \n",
       "3   (710.0, -400.0)  (-1570.0, 1620.0)   (-590.0, 270.0)   (-250.0, 1200.0)   \n",
       "4  (2340.0, -480.0)     (950.0, 260.0)        (nan, nan)      (0.0, -210.0)   \n",
       "\n",
       "                P25                P26                P27                P28  \n",
       "0  (-1010.0, 330.0)       (100.0, 0.0)         (nan, nan)  (-1550.0, 1430.0)  \n",
       "1  (4960.0, 1380.0)    (-580.0, 770.0)  (3310.0, -1350.0)   (1360.0, -160.0)  \n",
       "2    (600.0, 570.0)  (-2170.0, 1340.0)   (-250.0, -920.0)   (-1420.0, 650.0)  \n",
       "3  (-70.0, -1810.0)   (-1540.0, 170.0)    (160.0, 1820.0)         (nan, nan)  \n",
       "4   (830.0, 2650.0)     (10.0, 2380.0)  (1230.0, -2790.0)         (nan, nan)  \n",
       "\n",
       "[5 rows x 32 columns]"
      ]
     },
     "execution_count": 8,
     "metadata": {},
     "output_type": "execute_result"
    }
   ],
   "source": [
    "data.head()"
   ]
  },
  {
   "cell_type": "code",
   "execution_count": 9,
   "metadata": {
    "collapsed": true
   },
   "outputs": [],
   "source": [
    "list_ = [i for i in np.arange(len(data))]"
   ]
  },
  {
   "cell_type": "code",
   "execution_count": 10,
   "metadata": {},
   "outputs": [
    {
     "name": "stdout",
     "output_type": "stream",
     "text": [
      "100.0\n",
      "(-850.0, -180.0)\n",
      "990.0\n"
     ]
    }
   ],
   "source": [
    "print (get_loc(data,0,'P26')[0])\n",
    "print (get_loc(data,0,'P18'))\n",
    "print (distance(data,0,'P21','P18'))"
   ]
  },
  {
   "cell_type": "code",
   "execution_count": 11,
   "metadata": {
    "scrolled": false
   },
   "outputs": [],
   "source": [
    "## This code block generates 100 images each representing an instance of a pass\n",
    "# import random\n",
    "# sample = random.sample(range(1, 10000), 100)\n",
    "\n",
    "# for i,h in enumerate(sample):\n",
    "#     plot_instance(data,h)\n",
    "#     plt.savefig(r'images\\\\' + str(sample[i])+'.png')\n",
    "#     plt.figure()"
   ]
  },
  {
   "cell_type": "code",
   "execution_count": 12,
   "metadata": {
    "scrolled": false
   },
   "outputs": [
    {
     "data": {
      "image/png": "[encoded data removed]",
      "text/plain": [
       "<matplotlib.figure.Figure at 0x22383a59b70>"
      ]
     },
     "metadata": {},
     "output_type": "display_data"
    }
   ],
   "source": [
    "# Generate an image\n",
    "plot_instance(data,100)\n",
    "plt.show()"
   ]
  },
  {
   "cell_type": "code",
   "execution_count": 13,
   "metadata": {},
   "outputs": [
    {
     "name": "stdout",
     "output_type": "stream",
     "text": [
      "655\n",
      "2268\n",
      "2729\n",
      "9082\n",
      "9795\n",
      "11269\n"
     ]
    }
   ],
   "source": [
    "remove = []\n",
    "# Same sender and receiver\n",
    "for index_ in data.index:\n",
    "    if data.sender[index_] == data.receiver[index_]:\n",
    "        remove.append(index_)\n",
    "        print (index_)        "
   ]
  },
  {
   "cell_type": "code",
   "execution_count": 14,
   "metadata": {},
   "outputs": [
    {
     "name": "stdout",
     "output_type": "stream",
     "text": [
      "898\n"
     ]
    }
   ],
   "source": [
    "# Receiver is nan\n",
    "for index_ in data.index:\n",
    "    if (np.isfinite(data.receiver[index_])):\n",
    "        if (np.isfinite(data['P'+str(int(data.receiver[index_]))][index_][0]) == False):\n",
    "            remove.append(index_)\n",
    "            print (index_)"
   ]
  },
  {
   "cell_type": "code",
   "execution_count": 15,
   "metadata": {},
   "outputs": [
    {
     "name": "stdout",
     "output_type": "stream",
     "text": [
      "1161\n"
     ]
    }
   ],
   "source": [
    "# Sender is nan\n",
    "for index_ in data.index:\n",
    "    if (np.isfinite(data.sender[index_])):\n",
    "        if (np.isfinite(data['P'+str(int(data.sender[index_]))][index_][0]) == False):\n",
    "            remove.append(index_)\n",
    "            print (index_)"
   ]
  },
  {
   "cell_type": "code",
   "execution_count": 16,
   "metadata": {},
   "outputs": [
    {
     "data": {
      "text/plain": [
       "[655, 2268, 2729, 9082, 9795, 11269, 898, 1161]"
      ]
     },
     "execution_count": 16,
     "metadata": {},
     "output_type": "execute_result"
    }
   ],
   "source": [
    "remove"
   ]
  },
  {
   "cell_type": "code",
   "execution_count": 17,
   "metadata": {},
   "outputs": [
    {
     "data": {
      "text/plain": [
       "(nan, nan)"
      ]
     },
     "execution_count": 17,
     "metadata": {},
     "output_type": "execute_result"
    }
   ],
   "source": [
    "data.loc[5,'P7']"
   ]
  },
  {
   "cell_type": "code",
   "execution_count": 18,
   "metadata": {},
   "outputs": [
    {
     "data": {
      "text/plain": [
       "[(1, 1216.4292005702594),\n",
       " (3, 1303.8404810405298),\n",
       " (11, 1373.608386695422),\n",
       " (6, 2048.3163818121457),\n",
       " (5, 2603.2479712851023),\n",
       " (13, 2733.5873865673288),\n",
       " (4, 3860.8289265389626),\n",
       " (9, 4026.1768465878395),\n",
       " (10, 4081.0047782378301),\n",
       " (12, 5014.14997781279),\n",
       " (21, 121.6552506059644),\n",
       " (15, 346.69871646719434),\n",
       " (26, 906.20086073673531),\n",
       " (28, 909.17545061445651),\n",
       " (18, 1173.243367763057),\n",
       " (25, 1179.2370414806346),\n",
       " (27, 1591.7600321656528),\n",
       " (22, 2268.0828909014767),\n",
       " (23, 2410.0622398602072),\n",
       " (17, 2635.773131360133),\n",
       " (24, 3930.2417228460645)]"
      ]
     },
     "execution_count": 18,
     "metadata": {},
     "output_type": "execute_result"
    }
   ],
   "source": [
    "mapp=map_player(data,3432)\n",
    "mapp"
   ]
  },
  {
   "cell_type": "code",
   "execution_count": 19,
   "metadata": {},
   "outputs": [
    {
     "name": "stdout",
     "output_type": "stream",
     "text": [
      "#####  Reached  0 /12124\n",
      "#####  Reached  500 /12124\n",
      "#####  Reached  1000 /12124\n",
      "#####  Reached  1500 /12124\n",
      "#####  Reached  2000 /12124\n",
      "#####  Reached  2500 /12124\n",
      "#####  Reached  3000 /12124\n",
      "#####  Reached  3500 /12124\n",
      "#####  Reached  4000 /12124\n",
      "#####  Reached  4500 /12124\n",
      "#####  Reached  5000 /12124\n",
      "#####  Reached  5500 /12124\n",
      "#####  Reached  6000 /12124\n",
      "#####  Reached  6500 /12124\n",
      "#####  Reached  7000 /12124\n",
      "#####  Reached  7500 /12124\n",
      "#####  Reached  8000 /12124\n",
      "#####  Reached  8500 /12124\n",
      "#####  Reached  9000 /12124\n",
      "#####  Reached  9500 /12124\n",
      "#####  Reached  10000 /12124\n",
      "#####  Reached  10500 /12124\n",
      "#####  Reached  11000 /12124\n",
      "#####  Reached  11500 /12124\n",
      "#####  Reached  12000 /12124\n",
      "Time taken to run this block=  5.347816741466522  min.\n"
     ]
    }
   ],
   "source": [
    "import time\n",
    "start = time.time()\n",
    "X = np.zeros((1,21))\n",
    "Y = np.zeros((1,21))\n",
    "for i in data.index:\n",
    "    if i not in remove and i!= len(data):\n",
    "        x,y = make_feature(data,i)\n",
    "        if x.shape[0] == 21:\n",
    "            X = np.append(X,(np.array([x])),axis=0)\n",
    "            Y = np.append(Y,y,axis=0)\n",
    "            \n",
    "    if i%500 == 0:\n",
    "        print ('#####  Reached ', i,'/12124')\n",
    "            \n",
    "end = time.time()\n",
    "            \n",
    "print ('Time taken to run this block= ',(end-start)/60,' min.')"
   ]
  },
  {
   "cell_type": "code",
   "execution_count": 20,
   "metadata": {},
   "outputs": [
    {
     "data": {
      "text/plain": [
       "Int64Index([    0,     1,     2,     3,     4,     5,     6,     7,     8,\n",
       "                9,\n",
       "            ...\n",
       "            12114, 12115, 12116, 12117, 12118, 12119, 12120, 12121, 12122,\n",
       "            12123],\n",
       "           dtype='int64', length=12124)"
      ]
     },
     "execution_count": 20,
     "metadata": {},
     "output_type": "execute_result"
    }
   ],
   "source": [
    "data.index"
   ]
  },
  {
   "cell_type": "code",
   "execution_count": 21,
   "metadata": {
    "collapsed": true
   },
   "outputs": [],
   "source": [
    "X = (np.delete(X, (0), axis=0))\n",
    "Y = (np.delete(Y, (0), axis=0))"
   ]
  },
  {
   "cell_type": "code",
   "execution_count": 22,
   "metadata": {},
   "outputs": [
    {
     "data": {
      "text/plain": [
       "((11682, 21), (11682, 21))"
      ]
     },
     "execution_count": 22,
     "metadata": {},
     "output_type": "execute_result"
    }
   ],
   "source": [
    "X.shape,Y.shape"
   ]
  },
  {
   "cell_type": "code",
   "execution_count": 23,
   "metadata": {
    "collapsed": true
   },
   "outputs": [],
   "source": [
    "np.savetxt('unscaled_featmat.txt',X)\n",
    "np.savetxt('unscaled_labels.txt',Y)"
   ]
  },
  {
   "cell_type": "code",
   "execution_count": 24,
   "metadata": {
    "collapsed": true
   },
   "outputs": [],
   "source": [
    "Y_list = []\n",
    "for row in Y:\n",
    "    for i,element in enumerate(row):\n",
    "        if element == 1:\n",
    "            Y_list.append(i+1)\n",
    "            continue"
   ]
  },
  {
   "cell_type": "code",
   "execution_count": 25,
   "metadata": {},
   "outputs": [
    {
     "name": "stdout",
     "output_type": "stream",
     "text": [
      "Nearest teammember rank  1  . Percent of all passes =  27.418250299606232\n",
      "Nearest teammember rank  2  . Percent of all passes =  19.174798835815785\n",
      "Nearest teammember rank  3  . Percent of all passes =  11.50487930148947\n",
      "Nearest teammember rank  4  . Percent of all passes =  7.669919534326314\n",
      "Nearest teammember rank  5  . Percent of all passes =  5.213148433487417\n",
      "Nearest teammember rank  6  . Percent of all passes =  3.9291217257318953\n",
      "Nearest teammember rank  7  . Percent of all passes =  2.6022941277178564\n",
      "Nearest teammember rank  8  . Percent of all passes =  2.131484334874165\n",
      "Nearest teammember rank  9  . Percent of all passes =  1.891799349426468\n",
      "Nearest teammember rank  10  . Percent of all passes =  1.275466529703818\n"
     ]
    },
    {
     "data": {
      "image/png": "[encoded data removed]",
      "text/plain": [
       "<matplotlib.figure.Figure at 0x223841f7518>"
      ]
     },
     "metadata": {},
     "output_type": "display_data"
    }
   ],
   "source": [
    "Frac_pass_list=[]\n",
    "\n",
    "for i in range(1,11):\n",
    "    print ('Nearest teammember rank ',i,' . Percent of all passes = ',Y_list.count(i)*100/Y.shape[0])\n",
    "    Frac_pass_list.append(Y_list.count(i)/Y.shape[0])\n",
    "    \n",
    "    plt.plot(i,Y_list.count(i)/Y.shape[0],'ro')    \n",
    "plt.show()"
   ]
  },
  {
   "cell_type": "code",
   "execution_count": null,
   "metadata": {
    "collapsed": true
   },
   "outputs": [],
   "source": []
  }
 ],
 "metadata": {
  "kernelspec": {
   "display_name": "Python 3",
   "language": "python",
   "name": "python3"
  },
  "language_info": {
   "codemirror_mode": {
    "name": "ipython",
    "version": 3
   },
   "file_extension": ".py",
   "mimetype": "text/x-python",
   "name": "python",
   "nbconvert_exporter": "python",
   "pygments_lexer": "ipython3",
   "version": "3.6.3"
  }
 },
 "nbformat": 4,
 "nbformat_minor": 2
}
